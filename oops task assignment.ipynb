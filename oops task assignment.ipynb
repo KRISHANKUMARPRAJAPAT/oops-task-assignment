{
 "cells": [
  {
   "cell_type": "markdown",
   "id": "a602a2a5-237d-4cf1-8f78-b3c641a52372",
   "metadata": {},
   "source": [
    "## Q1. Create a vehicle class with an init method having instance variables as name_of_vehicle, max_speed and average_of_vehicle."
   ]
  },
  {
   "cell_type": "code",
   "execution_count": 12,
   "id": "d6ffd8a0-5d7b-468a-bcb6-427f621123ca",
   "metadata": {},
   "outputs": [],
   "source": [
    "#Ans: 1\n",
    "\n",
    "class Vehicle :\n",
    "    def __init__(self, name_of_vehicle, max_speed, average_of_vehicle):\n",
    "        self.name_of_vehicle = name_of_vehicle\n",
    "        self.max_speed = max_speed\n",
    "        self.average_of_vehicle = average_of_vehicle\n"
   ]
  },
  {
   "cell_type": "code",
   "execution_count": 13,
   "id": "e4aeb7c5-189c-4085-882c-c2b4813a7bd7",
   "metadata": {},
   "outputs": [],
   "source": [
    "my_car = Vehicle('toyota', 180, 60)"
   ]
  },
  {
   "cell_type": "code",
   "execution_count": 19,
   "id": "ba6d271d-bc23-4904-93fb-15b552ced421",
   "metadata": {},
   "outputs": [
    {
     "data": {
      "text/plain": [
       "180"
      ]
     },
     "execution_count": 19,
     "metadata": {},
     "output_type": "execute_result"
    }
   ],
   "source": [
    "my_car.max_speed"
   ]
  },
  {
   "cell_type": "code",
   "execution_count": 20,
   "id": "04e89245-b73c-4704-824c-2c91e1955197",
   "metadata": {},
   "outputs": [
    {
     "data": {
      "text/plain": [
       "'toyota'"
      ]
     },
     "execution_count": 20,
     "metadata": {},
     "output_type": "execute_result"
    }
   ],
   "source": [
    "my_car.name_of_vehicle"
   ]
  },
  {
   "cell_type": "code",
   "execution_count": 21,
   "id": "7d8f37be-dc01-4aff-9ac0-38f55eb2930b",
   "metadata": {},
   "outputs": [
    {
     "data": {
      "text/plain": [
       "180"
      ]
     },
     "execution_count": 21,
     "metadata": {},
     "output_type": "execute_result"
    }
   ],
   "source": [
    "my_car.max_speed"
   ]
  },
  {
   "cell_type": "markdown",
   "id": "6e0cccc9-4f70-4a74-9f8d-ce55ba38478c",
   "metadata": {},
   "source": [
    "## Q2. Create a child class car from the vehicle class created in Que 1, which will inherit the vehicle class. Create a method named seating_capacity which takes capacity as an argument and returns the name of the vehicle and its seating capacity.\n"
   ]
  },
  {
   "cell_type": "code",
   "execution_count": 30,
   "id": "0b1fad0a-7e93-4c2a-b548-265049a1044b",
   "metadata": {},
   "outputs": [],
   "source": [
    "#Ans: 2\n",
    "\n",
    "class car(Vehicle) :\n",
    "    def __init__(self, name_of_vehicle, max_speed, average_of_vehicle):\n",
    "        super().__init__(name_of_vehicle, max_speed, average_of_vehicle)\n",
    "        \n",
    "        \n",
    "    def seating_capacity(self, capacity) :\n",
    "        return f\"{self.name_of_vehicle} has a seating capacity of {capacity} people.\""
   ]
  },
  {
   "cell_type": "code",
   "execution_count": 33,
   "id": "9ddf0ded-f88a-4144-9497-19a379acce83",
   "metadata": {},
   "outputs": [
    {
     "name": "stdout",
     "output_type": "stream",
     "text": [
      "Scorpio N has a seating capacity of 7 people.\n"
     ]
    }
   ],
   "source": [
    "my_car = car('Scorpio N', 220, 50)\n",
    "print(my_car.seating_capacity(7))"
   ]
  },
  {
   "cell_type": "markdown",
   "id": "08fe25d1-af89-4ec7-98d9-9fe0d2955ea6",
   "metadata": {},
   "source": [
    "## Q3. What is multiple inheritance? Write a python code to demonstrate multiple inheritance.\n"
   ]
  },
  {
   "cell_type": "code",
   "execution_count": 34,
   "id": "49c5e8e6-4481-4730-b89a-cabf98c6a711",
   "metadata": {},
   "outputs": [],
   "source": [
    "#Ans: 3\n",
    "\n",
    "class Person :\n",
    "    def __init__(self, name, age) :\n",
    "        self.name = name\n",
    "        self.age = age\n",
    "        \n",
    "    def say_Hey(self) :\n",
    "        print(f\"Hey, my name is {self.name} and I am {self.age} year old.\")\n",
    "        \n",
    "        \n",
    "class Student:\n",
    "    def __init__(self, school_name, student_id):\n",
    "        self.school_name = school_name\n",
    "        self.student_id = student_id\n",
    "        \n",
    "        \n",
    "    def display_info(self):\n",
    "        print(f\"I am a student at {self.school_name} with student ID {self.student_id} .\")\n",
    "        \n",
    "        \n",
    "        \n",
    "class pwskills_student(Person, Student):\n",
    "    def __init__(self, name, age, school_name, student_id, pwskills):\n",
    "        Person.__init__(self, name, age)\n",
    "        Student.__init__(self, school_name, student_id)\n",
    "        self.pwskills = pwskills\n",
    "        \n",
    "    def display_pwskills(self):\n",
    "        print(f\"I have the following PWskills: {self.pwskills} .\")\n",
    "        "
   ]
  },
  {
   "cell_type": "code",
   "execution_count": 41,
   "id": "b55bd120-6165-49ba-83af-29c05accef66",
   "metadata": {},
   "outputs": [
    {
     "name": "stdout",
     "output_type": "stream",
     "text": [
      "Hey, my name is krishna kumar and I am 22 year old.\n",
      "I am a student at Maharaja ganga singh university with student ID 12345 .\n",
      "I have the following PWskills: ['data science masters'] .\n"
     ]
    }
   ],
   "source": [
    "student = pwskills_student(\"krishna kumar\", 22, \"Maharaja ganga singh university\", \"12345\", [\"data science masters\"])\n",
    "student.say_Hey()\n",
    "student.display_info()\n",
    "student.display_pwskills()"
   ]
  },
  {
   "cell_type": "markdown",
   "id": "b04f3680-371c-4f96-b077-bcaa7fa71cc7",
   "metadata": {},
   "source": [
    "## Q4. What are getter and setter in python? Create a class and create a getter and a setter method in this class.\n"
   ]
  },
  {
   "cell_type": "markdown",
   "id": "498a0360-0497-43b5-ab1a-076198a81585",
   "metadata": {},
   "source": [
    "#Ans: 4\n",
    "\n",
    "getters and setters are methods that allow you to retrieve and modify the values of an object's attributes. Getters retrieve the value of an attribute, while setters modify the value of an attribute."
   ]
  },
  {
   "cell_type": "code",
   "execution_count": 54,
   "id": "de25a88c-a4fc-4c58-8600-b476b064dbb4",
   "metadata": {},
   "outputs": [],
   "source": [
    "class Person :\n",
    "    def __init__(self, name):\n",
    "        self.name = name\n",
    "        \n",
    "    def get_name(self):\n",
    "        return self.name\n",
    "    \n",
    "    def set_name(self, new_name):\n",
    "        self.name = new_name"
   ]
  },
  {
   "cell_type": "code",
   "execution_count": 56,
   "id": "d838c0ef-f81e-411e-b9b5-d343f56ebfa5",
   "metadata": {},
   "outputs": [
    {
     "name": "stdout",
     "output_type": "stream",
     "text": [
      "krishna kumar\n",
      "sudhanshu sir\n"
     ]
    }
   ],
   "source": [
    "person = Person(\"krishna kumar\")\n",
    "print(person.get_name())  \n",
    "\n",
    "person.set_name(\"sudhanshu sir\")\n",
    "print(person.get_name())  \n"
   ]
  },
  {
   "cell_type": "markdown",
   "id": "d4637719-8541-43e7-a392-4374d0d92b8d",
   "metadata": {},
   "source": [
    "## Q5.What is method overriding in python? Write a python code to demonstrate method overriding."
   ]
  },
  {
   "cell_type": "markdown",
   "id": "4548bb31-1849-4e2c-b14b-32b82eae5eaa",
   "metadata": {},
   "source": [
    "#Ans: 5 \n",
    "\n",
    "Method overriding in Python is a feature of object-oriented programming that allows a child class to provide its own implementation of a method that is already defined in its parent class. When a child class overrides a method, it provides its own implementation that is used in place of the parent class's implementation when the method is called on an object of the child class.\n",
    "\n",
    "To override a method in Python, the child class defines a method with the same name as the method in the parent class. The child class's method should have the same number and type of arguments as the parent class's method, but can have a different implementation."
   ]
  },
  {
   "cell_type": "code",
   "execution_count": 57,
   "id": "515f1884-3a09-457d-ae83-d5f137cc39d1",
   "metadata": {},
   "outputs": [],
   "source": [
    "#Here is a code for demonstrates method overriding:\n",
    "\n",
    "class Vehicle:\n",
    "    def __init__(self, name):\n",
    "        self.name = name\n",
    "        \n",
    "    def start(self):\n",
    "        print(f\"{self.name} is staring with start pu button...\")\n",
    "        \n",
    "\n",
    "class Car(Vehicle):\n",
    "    def start(self):\n",
    "        print(f\"{self.name} is staring with a keyy...\")\n",
    "        \n",
    "\n",
    "        \n",
    "class Bike(Vehicle):\n",
    "    def start(self):\n",
    "        print(f\"{self.name} is starting with a kick...\")\n",
    "        "
   ]
  },
  {
   "cell_type": "code",
   "execution_count": 58,
   "id": "4c152b83-eefc-44ba-ace8-b80e01e0d80a",
   "metadata": {},
   "outputs": [
    {
     "name": "stdout",
     "output_type": "stream",
     "text": [
      "Indian Vehicle is staring...\n",
      "Farrari is staring with a keyy...\n",
      "Harley Davidson is starting with a kick...\n"
     ]
    }
   ],
   "source": [
    "vehicle = Vehicle(\"Indian Vehicle\")\n",
    "\n",
    "car = Car(\"Farrari\")\n",
    "\n",
    "bike = Bike('Harley Davidson')\n",
    "\n",
    "\n",
    "\n",
    "\n",
    "vehicle.start()\n",
    "car.start()\n",
    "bike.start()"
   ]
  },
  {
   "cell_type": "code",
   "execution_count": null,
   "id": "30918ce6-39a9-49c5-a582-9df5a57ce3cd",
   "metadata": {},
   "outputs": [],
   "source": []
  }
 ],
 "metadata": {
  "kernelspec": {
   "display_name": "Python 3 (ipykernel)",
   "language": "python",
   "name": "python3"
  },
  "language_info": {
   "codemirror_mode": {
    "name": "ipython",
    "version": 3
   },
   "file_extension": ".py",
   "mimetype": "text/x-python",
   "name": "python",
   "nbconvert_exporter": "python",
   "pygments_lexer": "ipython3",
   "version": "3.10.8"
  }
 },
 "nbformat": 4,
 "nbformat_minor": 5
}
